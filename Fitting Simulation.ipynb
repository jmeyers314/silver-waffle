{
 "cells": [
  {
   "cell_type": "code",
   "execution_count": 1,
   "metadata": {
    "collapsed": true
   },
   "outputs": [],
   "source": [
    "import numpy as np\n",
    "import matplotlib.pyplot as plt\n",
    "%matplotlib inline"
   ]
  },
  {
   "cell_type": "code",
   "execution_count": 85,
   "metadata": {},
   "outputs": [],
   "source": [
    "def plotrange(X):\n",
    "    Xrange = np.percentile(X, [2.0, 98.0])\n",
    "    span = Xrange[1] - Xrange[0]\n",
    "    return Xrange[0]-span*0.2, Xrange[1]+span*0.2\n",
    "\n",
    "def fit(x, y, nbins=30, bindiff=1, clipend=0, binNMin=100, plot=True):\n",
    "    xrange = plotrange(x)\n",
    "    yrange = plotrange(y)\n",
    "\n",
    "    xbins = np.linspace(xrange[0], xrange[1], nbins)\n",
    "    ybins = np.linspace(yrange[0], yrange[1], nbins)\n",
    "\n",
    "    if plot:\n",
    "        plt.hist2d(x, y, bins=[xbins, ybins])\n",
    "\n",
    "    xs = []\n",
    "    ys = []\n",
    "    for xlo, xhi in zip(xbins[:-1], xbins[1:]):\n",
    "        w = (x > xlo) & (x < xhi)\n",
    "        if np.sum(w) < binNMin:\n",
    "            continue\n",
    "        ys.append(np.mean(y[w]))        \n",
    "        xs.append(0.5*(xlo+xhi))\n",
    "    if clipend is not 0:\n",
    "        xs = xs[clipend:-clipend]\n",
    "        ys = ys[clipend:-clipend]\n",
    "    if plot:\n",
    "        plt.plot(xs, ys, c='r')\n",
    "        plt.axhline(0.0, c='k')\n",
    "    coefs = np.polyfit(xs, ys, deg=1)\n",
    "    return coefs"
   ]
  },
  {
   "cell_type": "code",
   "execution_count": 86,
   "metadata": {
    "collapsed": true
   },
   "outputs": [],
   "source": [
    "def generate_uniform_x(xsig=1, ysig=1, N=int(5e5), m=0.1):\n",
    "    xs = np.random.uniform(low=-1, high=1, size=N)\n",
    "    ys = xs * m\n",
    "    xs += np.random.normal(scale=xsig, size=N)\n",
    "    ys += np.random.normal(scale=ysig, size=N)\n",
    "    return xs, ys"
   ]
  },
  {
   "cell_type": "code",
   "execution_count": 106,
   "metadata": {},
   "outputs": [
    {
     "name": "stdout",
     "output_type": "stream",
     "text": [
      "0.0231724918205 0.000223101144486\n"
     ]
    },
    {
     "data": {
      "image/png": "[encoded data removed]",
      "text/plain": [
       "<matplotlib.figure.Figure at 0x116966d68>"
      ]
     },
     "metadata": {},
     "output_type": "display_data"
    }
   ],
   "source": [
    "xsig=1.0\n",
    "ysig=1.0\n",
    "Ntrials=10\n",
    "fit(*generate_uniform_x(xsig=xsig, ysig=ysig))\n",
    "ms = [fit(*generate_uniform_x(xsig=xsig, ysig=ysig), plot=False)[0] \n",
    "      for _ in range(Ntrials)]\n",
    "print(np.mean(ms), np.std(ms)/Ntrials)"
   ]
  },
  {
   "cell_type": "code",
   "execution_count": 108,
   "metadata": {},
   "outputs": [
    {
     "name": "stdout",
     "output_type": "stream",
     "text": [
      "0.095044831678 0.00366515724025\n"
     ]
    },
    {
     "data": {
      "image/png": "[encoded data removed]",
      "text/plain": [
       "<matplotlib.figure.Figure at 0x10fc25fd0>"
      ]
     },
     "metadata": {},
     "output_type": "display_data"
    }
   ],
   "source": [
    "xsig=0.0\n",
    "ysig=10.0\n",
    "Ntrials=10\n",
    "fit(*generate_uniform_x(xsig=xsig, ysig=ysig))\n",
    "ms = [fit(*generate_uniform_x(xsig=xsig, ysig=ysig), plot=False)[0] \n",
    "      for _ in range(Ntrials)]\n",
    "print(np.mean(ms), np.std(ms)/Ntrials)"
   ]
  },
  {
   "cell_type": "code",
   "execution_count": 109,
   "metadata": {
    "collapsed": true
   },
   "outputs": [],
   "source": [
    "def generate_normal_x(xsig=1, ysig=1, N=int(5e5), m=0.1):\n",
    "    xs = np.random.normal(size=N)\n",
    "    ys = xs * m\n",
    "    xs += np.random.normal(scale=xsig, size=N)\n",
    "    ys += np.random.normal(scale=ysig, size=N)\n",
    "    return xs, ys"
   ]
  },
  {
   "cell_type": "code",
   "execution_count": 129,
   "metadata": {},
   "outputs": [
    {
     "name": "stdout",
     "output_type": "stream",
     "text": [
      "0.0233060994514 0.000184349938617\n"
     ]
    },
    {
     "data": {
      "image/png": "[encoded data removed]",
      "text/plain": [
       "<matplotlib.figure.Figure at 0x1174323c8>"
      ]
     },
     "metadata": {},
     "output_type": "display_data"
    }
   ],
   "source": [
    "xsig=1.0\n",
    "ysig=1.0\n",
    "Ntrials=10\n",
    "m=0.1\n",
    "fit(*generate_normal_x(xsig=xsig, ysig=ysig, m=m))\n",
    "ms = [fit(*generate_uniform_x(xsig=xsig, ysig=ysig, m=m), plot=False)[0] \n",
    "      for _ in range(Ntrials)]\n",
    "print(np.mean(ms), np.std(ms)/Ntrials)"
   ]
  },
  {
   "cell_type": "code",
   "execution_count": 114,
   "metadata": {},
   "outputs": [
    {
     "name": "stdout",
     "output_type": "stream",
     "text": [
      "-0.0984916651593 0.000200765669877\n"
     ]
    },
    {
     "data": {
      "image/png": "[encoded data removed]",
      "text/plain": [
       "<matplotlib.figure.Figure at 0x116dccf28>"
      ]
     },
     "metadata": {},
     "output_type": "display_data"
    }
   ],
   "source": [
    "xsig=0.0\n",
    "ysig=1.0\n",
    "Ntrials=10\n",
    "m=-0.1\n",
    "fit(*generate_normal_x(xsig=xsig, ysig=ysig, m=m))\n",
    "ms = [fit(*generate_uniform_x(xsig=xsig, ysig=ysig, m=m), plot=False)[0] \n",
    "      for _ in range(Ntrials)]\n",
    "print(np.mean(ms), np.std(ms)/Ntrials)"
   ]
  },
  {
   "cell_type": "code",
   "execution_count": null,
   "metadata": {
    "collapsed": true
   },
   "outputs": [],
   "source": []
  }
 ],
 "metadata": {
  "anaconda-cloud": {},
  "kernelspec": {
   "display_name": "Python [conda root]",
   "language": "python",
   "name": "conda-root-py"
  },
  "language_info": {
   "codemirror_mode": {
    "name": "ipython",
    "version": 3
   },
   "file_extension": ".py",
   "mimetype": "text/x-python",
   "name": "python",
   "nbconvert_exporter": "python",
   "pygments_lexer": "ipython3",
   "version": "3.5.2"
  }
 },
 "nbformat": 4,
 "nbformat_minor": 1
}
